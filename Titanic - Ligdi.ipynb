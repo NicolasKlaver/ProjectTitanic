{
 "cells": [
  {
   "cell_type": "markdown",
   "id": "c2f73eb7",
   "metadata": {},
   "source": [
    "# Importo the libraries"
   ]
  },
  {
   "cell_type": "code",
   "execution_count": 16,
   "id": "9cb96e1e",
   "metadata": {},
   "outputs": [],
   "source": [
    "#Se importan la librerias a utilizar\n",
    "import numpy as np\n",
    "import pandas as pd\n",
    "from sklearn.model_selection import train_test_split\n",
    "from sklearn.linear_model import LogisticRegression\n",
    "from sklearn.svm import SVC\n",
    "from sklearn.neighbors import KNeighborsClassifier"
   ]
  },
  {
   "cell_type": "markdown",
   "id": "d2c1127d",
   "metadata": {},
   "source": [
    "# Import the data"
   ]
  },
  {
   "cell_type": "code",
   "execution_count": 17,
   "id": "03813759",
   "metadata": {},
   "outputs": [],
   "source": [
    "# save filepath to variable for easier access\n",
    "titanic_test_path = 'data/test.csv'\n",
    "titanic_train_path = 'data/train.csv'\n",
    "\n",
    "# read the data and store data in DataFrame\n",
    "df_test = pd.read_csv(titanic_test_path)\n",
    "df_train = pd.read_csv(titanic_train_path)"
   ]
  },
  {
   "cell_type": "markdown",
   "id": "b0ca7b03",
   "metadata": {},
   "source": [
    "#  A first look to the data\n",
    "- We want to predict who will survive and we have the data --> Supervised Algorithms\n",
    "- Missing Values"
   ]
  },
  {
   "cell_type": "code",
   "execution_count": 18,
   "id": "a36f9277",
   "metadata": {},
   "outputs": [
    {
     "data": {
      "text/html": [
       "<div>\n",
       "<style scoped>\n",
       "    .dataframe tbody tr th:only-of-type {\n",
       "        vertical-align: middle;\n",
       "    }\n",
       "\n",
       "    .dataframe tbody tr th {\n",
       "        vertical-align: top;\n",
       "    }\n",
       "\n",
       "    .dataframe thead th {\n",
       "        text-align: right;\n",
       "    }\n",
       "</style>\n",
       "<table border=\"1\" class=\"dataframe\">\n",
       "  <thead>\n",
       "    <tr style=\"text-align: right;\">\n",
       "      <th></th>\n",
       "      <th>PassengerId</th>\n",
       "      <th>Survived</th>\n",
       "      <th>Pclass</th>\n",
       "      <th>Name</th>\n",
       "      <th>Sex</th>\n",
       "      <th>Age</th>\n",
       "      <th>SibSp</th>\n",
       "      <th>Parch</th>\n",
       "      <th>Ticket</th>\n",
       "      <th>Fare</th>\n",
       "      <th>Cabin</th>\n",
       "      <th>Embarked</th>\n",
       "    </tr>\n",
       "  </thead>\n",
       "  <tbody>\n",
       "    <tr>\n",
       "      <th>0</th>\n",
       "      <td>1</td>\n",
       "      <td>0</td>\n",
       "      <td>3</td>\n",
       "      <td>Braund, Mr. Owen Harris</td>\n",
       "      <td>male</td>\n",
       "      <td>22.0</td>\n",
       "      <td>1</td>\n",
       "      <td>0</td>\n",
       "      <td>A/5 21171</td>\n",
       "      <td>7.2500</td>\n",
       "      <td>NaN</td>\n",
       "      <td>S</td>\n",
       "    </tr>\n",
       "    <tr>\n",
       "      <th>1</th>\n",
       "      <td>2</td>\n",
       "      <td>1</td>\n",
       "      <td>1</td>\n",
       "      <td>Cumings, Mrs. John Bradley (Florence Briggs Th...</td>\n",
       "      <td>female</td>\n",
       "      <td>38.0</td>\n",
       "      <td>1</td>\n",
       "      <td>0</td>\n",
       "      <td>PC 17599</td>\n",
       "      <td>71.2833</td>\n",
       "      <td>C85</td>\n",
       "      <td>C</td>\n",
       "    </tr>\n",
       "    <tr>\n",
       "      <th>2</th>\n",
       "      <td>3</td>\n",
       "      <td>1</td>\n",
       "      <td>3</td>\n",
       "      <td>Heikkinen, Miss. Laina</td>\n",
       "      <td>female</td>\n",
       "      <td>26.0</td>\n",
       "      <td>0</td>\n",
       "      <td>0</td>\n",
       "      <td>STON/O2. 3101282</td>\n",
       "      <td>7.9250</td>\n",
       "      <td>NaN</td>\n",
       "      <td>S</td>\n",
       "    </tr>\n",
       "    <tr>\n",
       "      <th>3</th>\n",
       "      <td>4</td>\n",
       "      <td>1</td>\n",
       "      <td>1</td>\n",
       "      <td>Futrelle, Mrs. Jacques Heath (Lily May Peel)</td>\n",
       "      <td>female</td>\n",
       "      <td>35.0</td>\n",
       "      <td>1</td>\n",
       "      <td>0</td>\n",
       "      <td>113803</td>\n",
       "      <td>53.1000</td>\n",
       "      <td>C123</td>\n",
       "      <td>S</td>\n",
       "    </tr>\n",
       "    <tr>\n",
       "      <th>4</th>\n",
       "      <td>5</td>\n",
       "      <td>0</td>\n",
       "      <td>3</td>\n",
       "      <td>Allen, Mr. William Henry</td>\n",
       "      <td>male</td>\n",
       "      <td>35.0</td>\n",
       "      <td>0</td>\n",
       "      <td>0</td>\n",
       "      <td>373450</td>\n",
       "      <td>8.0500</td>\n",
       "      <td>NaN</td>\n",
       "      <td>S</td>\n",
       "    </tr>\n",
       "  </tbody>\n",
       "</table>\n",
       "</div>"
      ],
      "text/plain": [
       "   PassengerId  Survived  Pclass  \\\n",
       "0            1         0       3   \n",
       "1            2         1       1   \n",
       "2            3         1       3   \n",
       "3            4         1       1   \n",
       "4            5         0       3   \n",
       "\n",
       "                                                Name     Sex   Age  SibSp  \\\n",
       "0                            Braund, Mr. Owen Harris    male  22.0      1   \n",
       "1  Cumings, Mrs. John Bradley (Florence Briggs Th...  female  38.0      1   \n",
       "2                             Heikkinen, Miss. Laina  female  26.0      0   \n",
       "3       Futrelle, Mrs. Jacques Heath (Lily May Peel)  female  35.0      1   \n",
       "4                           Allen, Mr. William Henry    male  35.0      0   \n",
       "\n",
       "   Parch            Ticket     Fare Cabin Embarked  \n",
       "0      0         A/5 21171   7.2500   NaN        S  \n",
       "1      0          PC 17599  71.2833   C85        C  \n",
       "2      0  STON/O2. 3101282   7.9250   NaN        S  \n",
       "3      0            113803  53.1000  C123        S  \n",
       "4      0            373450   8.0500   NaN        S  "
      ]
     },
     "execution_count": 18,
     "metadata": {},
     "output_type": "execute_result"
    }
   ],
   "source": [
    "df_train.head()"
   ]
  },
  {
   "cell_type": "code",
   "execution_count": 19,
   "id": "cb4e65ad",
   "metadata": {},
   "outputs": [
    {
     "data": {
      "text/html": [
       "<div>\n",
       "<style scoped>\n",
       "    .dataframe tbody tr th:only-of-type {\n",
       "        vertical-align: middle;\n",
       "    }\n",
       "\n",
       "    .dataframe tbody tr th {\n",
       "        vertical-align: top;\n",
       "    }\n",
       "\n",
       "    .dataframe thead th {\n",
       "        text-align: right;\n",
       "    }\n",
       "</style>\n",
       "<table border=\"1\" class=\"dataframe\">\n",
       "  <thead>\n",
       "    <tr style=\"text-align: right;\">\n",
       "      <th></th>\n",
       "      <th>PassengerId</th>\n",
       "      <th>Pclass</th>\n",
       "      <th>Name</th>\n",
       "      <th>Sex</th>\n",
       "      <th>Age</th>\n",
       "      <th>SibSp</th>\n",
       "      <th>Parch</th>\n",
       "      <th>Ticket</th>\n",
       "      <th>Fare</th>\n",
       "      <th>Cabin</th>\n",
       "      <th>Embarked</th>\n",
       "    </tr>\n",
       "  </thead>\n",
       "  <tbody>\n",
       "    <tr>\n",
       "      <th>0</th>\n",
       "      <td>892</td>\n",
       "      <td>3</td>\n",
       "      <td>Kelly, Mr. James</td>\n",
       "      <td>male</td>\n",
       "      <td>34.5</td>\n",
       "      <td>0</td>\n",
       "      <td>0</td>\n",
       "      <td>330911</td>\n",
       "      <td>7.8292</td>\n",
       "      <td>NaN</td>\n",
       "      <td>Q</td>\n",
       "    </tr>\n",
       "    <tr>\n",
       "      <th>1</th>\n",
       "      <td>893</td>\n",
       "      <td>3</td>\n",
       "      <td>Wilkes, Mrs. James (Ellen Needs)</td>\n",
       "      <td>female</td>\n",
       "      <td>47.0</td>\n",
       "      <td>1</td>\n",
       "      <td>0</td>\n",
       "      <td>363272</td>\n",
       "      <td>7.0000</td>\n",
       "      <td>NaN</td>\n",
       "      <td>S</td>\n",
       "    </tr>\n",
       "    <tr>\n",
       "      <th>2</th>\n",
       "      <td>894</td>\n",
       "      <td>2</td>\n",
       "      <td>Myles, Mr. Thomas Francis</td>\n",
       "      <td>male</td>\n",
       "      <td>62.0</td>\n",
       "      <td>0</td>\n",
       "      <td>0</td>\n",
       "      <td>240276</td>\n",
       "      <td>9.6875</td>\n",
       "      <td>NaN</td>\n",
       "      <td>Q</td>\n",
       "    </tr>\n",
       "    <tr>\n",
       "      <th>3</th>\n",
       "      <td>895</td>\n",
       "      <td>3</td>\n",
       "      <td>Wirz, Mr. Albert</td>\n",
       "      <td>male</td>\n",
       "      <td>27.0</td>\n",
       "      <td>0</td>\n",
       "      <td>0</td>\n",
       "      <td>315154</td>\n",
       "      <td>8.6625</td>\n",
       "      <td>NaN</td>\n",
       "      <td>S</td>\n",
       "    </tr>\n",
       "    <tr>\n",
       "      <th>4</th>\n",
       "      <td>896</td>\n",
       "      <td>3</td>\n",
       "      <td>Hirvonen, Mrs. Alexander (Helga E Lindqvist)</td>\n",
       "      <td>female</td>\n",
       "      <td>22.0</td>\n",
       "      <td>1</td>\n",
       "      <td>1</td>\n",
       "      <td>3101298</td>\n",
       "      <td>12.2875</td>\n",
       "      <td>NaN</td>\n",
       "      <td>S</td>\n",
       "    </tr>\n",
       "  </tbody>\n",
       "</table>\n",
       "</div>"
      ],
      "text/plain": [
       "   PassengerId  Pclass                                          Name     Sex  \\\n",
       "0          892       3                              Kelly, Mr. James    male   \n",
       "1          893       3              Wilkes, Mrs. James (Ellen Needs)  female   \n",
       "2          894       2                     Myles, Mr. Thomas Francis    male   \n",
       "3          895       3                              Wirz, Mr. Albert    male   \n",
       "4          896       3  Hirvonen, Mrs. Alexander (Helga E Lindqvist)  female   \n",
       "\n",
       "    Age  SibSp  Parch   Ticket     Fare Cabin Embarked  \n",
       "0  34.5      0      0   330911   7.8292   NaN        Q  \n",
       "1  47.0      1      0   363272   7.0000   NaN        S  \n",
       "2  62.0      0      0   240276   9.6875   NaN        Q  \n",
       "3  27.0      0      0   315154   8.6625   NaN        S  \n",
       "4  22.0      1      1  3101298  12.2875   NaN        S  "
      ]
     },
     "execution_count": 19,
     "metadata": {},
     "output_type": "execute_result"
    }
   ],
   "source": [
    "df_test.head()"
   ]
  },
  {
   "cell_type": "code",
   "execution_count": null,
   "id": "1288aac9",
   "metadata": {},
   "outputs": [],
   "source": []
  },
  {
   "cell_type": "markdown",
   "id": "6e1dd5e5",
   "metadata": {},
   "source": [
    "## Data Exploration"
   ]
  },
  {
   "cell_type": "code",
   "execution_count": 20,
   "id": "e76db05b",
   "metadata": {},
   "outputs": [
    {
     "name": "stdout",
     "output_type": "stream",
     "text": [
      "Amount of data: \n",
      "Train dataset:  (891, 12)\n",
      "Test dataset:  (418, 11)\n"
     ]
    }
   ],
   "source": [
    "# Verify the amount of data in the dataset\n",
    "print('Amount of data: ')\n",
    "print(\"Train dataset: \", df_train.shape)\n",
    "print(\"Test dataset: \", df_test.shape)"
   ]
  },
  {
   "cell_type": "markdown",
   "id": "409043b1",
   "metadata": {},
   "source": [
    "- La columna extra es la si Sobrevivio o no"
   ]
  },
  {
   "cell_type": "code",
   "execution_count": 21,
   "id": "61929ffe",
   "metadata": {},
   "outputs": [
    {
     "name": "stdout",
     "output_type": "stream",
     "text": [
      "\t\tType of data\n",
      "\n",
      "Train dataset\n",
      "<class 'pandas.core.frame.DataFrame'>\n",
      "RangeIndex: 891 entries, 0 to 890\n",
      "Data columns (total 12 columns):\n",
      " #   Column       Non-Null Count  Dtype  \n",
      "---  ------       --------------  -----  \n",
      " 0   PassengerId  891 non-null    int64  \n",
      " 1   Survived     891 non-null    int64  \n",
      " 2   Pclass       891 non-null    int64  \n",
      " 3   Name         891 non-null    object \n",
      " 4   Sex          891 non-null    object \n",
      " 5   Age          714 non-null    float64\n",
      " 6   SibSp        891 non-null    int64  \n",
      " 7   Parch        891 non-null    int64  \n",
      " 8   Ticket       891 non-null    object \n",
      " 9   Fare         891 non-null    float64\n",
      " 10  Cabin        204 non-null    object \n",
      " 11  Embarked     889 non-null    object \n",
      "dtypes: float64(2), int64(5), object(5)\n",
      "memory usage: 83.7+ KB\n",
      "\n",
      "Test dataset\n",
      "<class 'pandas.core.frame.DataFrame'>\n",
      "RangeIndex: 418 entries, 0 to 417\n",
      "Data columns (total 11 columns):\n",
      " #   Column       Non-Null Count  Dtype  \n",
      "---  ------       --------------  -----  \n",
      " 0   PassengerId  418 non-null    int64  \n",
      " 1   Pclass       418 non-null    int64  \n",
      " 2   Name         418 non-null    object \n",
      " 3   Sex          418 non-null    object \n",
      " 4   Age          332 non-null    float64\n",
      " 5   SibSp        418 non-null    int64  \n",
      " 6   Parch        418 non-null    int64  \n",
      " 7   Ticket       418 non-null    object \n",
      " 8   Fare         417 non-null    float64\n",
      " 9   Cabin        91 non-null     object \n",
      " 10  Embarked     418 non-null    object \n",
      "dtypes: float64(2), int64(4), object(5)\n",
      "memory usage: 36.0+ KB\n"
     ]
    }
   ],
   "source": [
    "# Verify the type of data\n",
    "print('\\t\\tType of data\\n')\n",
    "\n",
    "print(\"Train dataset\")\n",
    "df_train.info()\n",
    "\n",
    "print(\"\\nTest dataset\")\n",
    "df_test.info()"
   ]
  },
  {
   "cell_type": "markdown",
   "id": "31714922",
   "metadata": {},
   "source": [
    "- We will want to change the object types to Numeric"
   ]
  },
  {
   "cell_type": "code",
   "execution_count": 22,
   "id": "c067a9a4",
   "metadata": {},
   "outputs": [
    {
     "name": "stdout",
     "output_type": "stream",
     "text": [
      "Datos faltantes:\n",
      "\n",
      "\n",
      "\tTrain dataset\n",
      "\n",
      "PassengerId      0\n",
      "Survived         0\n",
      "Pclass           0\n",
      "Name             0\n",
      "Sex              0\n",
      "Age            177\n",
      "SibSp            0\n",
      "Parch            0\n",
      "Ticket           0\n",
      "Fare             0\n",
      "Cabin          687\n",
      "Embarked         2\n",
      "dtype: int64\n",
      "\n",
      "\n",
      "\tTest dataset:\n",
      "\n",
      "PassengerId      0\n",
      "Pclass           0\n",
      "Name             0\n",
      "Sex              0\n",
      "Age             86\n",
      "SibSp            0\n",
      "Parch            0\n",
      "Ticket           0\n",
      "Fare             1\n",
      "Cabin          327\n",
      "Embarked         0\n",
      "dtype: int64\n"
     ]
    }
   ],
   "source": [
    "#Verifico los datos faltantes de los dataset\n",
    "print('Datos faltantes:')\n",
    "\n",
    "print(\"\\n\\n\\tTrain dataset\\n\")\n",
    "print(pd.isnull(df_train).sum())\n",
    "\n",
    "print(\"\\n\\n\\tTest dataset:\\n\")\n",
    "print(pd.isnull(df_test).sum())\n"
   ]
  },
  {
   "cell_type": "markdown",
   "id": "b75be3c4",
   "metadata": {},
   "source": [
    "- We will have to make a decision about the missing data"
   ]
  },
  {
   "cell_type": "code",
   "execution_count": 23,
   "id": "042da9a9",
   "metadata": {},
   "outputs": [
    {
     "name": "stdout",
     "output_type": "stream",
     "text": [
      "Estadísticas del dataset:\n",
      "\n",
      "\n",
      "\tTrain dataset\n",
      "\n",
      "       PassengerId    Survived      Pclass         Age       SibSp  \\\n",
      "count   891.000000  891.000000  891.000000  714.000000  891.000000   \n",
      "mean    446.000000    0.383838    2.308642   29.699118    0.523008   \n",
      "std     257.353842    0.486592    0.836071   14.526497    1.102743   \n",
      "min       1.000000    0.000000    1.000000    0.420000    0.000000   \n",
      "25%     223.500000    0.000000    2.000000   20.125000    0.000000   \n",
      "50%     446.000000    0.000000    3.000000   28.000000    0.000000   \n",
      "75%     668.500000    1.000000    3.000000   38.000000    1.000000   \n",
      "max     891.000000    1.000000    3.000000   80.000000    8.000000   \n",
      "\n",
      "            Parch        Fare  \n",
      "count  891.000000  891.000000  \n",
      "mean     0.381594   32.204208  \n",
      "std      0.806057   49.693429  \n",
      "min      0.000000    0.000000  \n",
      "25%      0.000000    7.910400  \n",
      "50%      0.000000   14.454200  \n",
      "75%      0.000000   31.000000  \n",
      "max      6.000000  512.329200  \n",
      "\n",
      "\n",
      "\tTest dataset:\n",
      "\n",
      "       PassengerId      Pclass         Age       SibSp       Parch        Fare\n",
      "count   418.000000  418.000000  332.000000  418.000000  418.000000  417.000000\n",
      "mean   1100.500000    2.265550   30.272590    0.447368    0.392344   35.627188\n",
      "std     120.810458    0.841838   14.181209    0.896760    0.981429   55.907576\n",
      "min     892.000000    1.000000    0.170000    0.000000    0.000000    0.000000\n",
      "25%     996.250000    1.000000   21.000000    0.000000    0.000000    7.895800\n",
      "50%    1100.500000    3.000000   27.000000    0.000000    0.000000   14.454200\n",
      "75%    1204.750000    3.000000   39.000000    1.000000    0.000000   31.500000\n",
      "max    1309.000000    3.000000   76.000000    8.000000    9.000000  512.329200\n"
     ]
    }
   ],
   "source": [
    "#Verifico las estadísticas del dataset\n",
    "print('Estadísticas del dataset:')\n",
    "\n",
    "print(\"\\n\\n\\tTrain dataset\\n\")\n",
    "print(df_train.describe())\n",
    "print(\"\\n\\n\\tTest dataset:\\n\")\n",
    "print(df_test.describe())"
   ]
  },
  {
   "cell_type": "markdown",
   "id": "12449ab6",
   "metadata": {},
   "source": [
    "# Preprocessing data"
   ]
  },
  {
   "cell_type": "markdown",
   "id": "4e173410",
   "metadata": {},
   "source": [
    "#### Change the data of sexes in numbers"
   ]
  },
  {
   "cell_type": "code",
   "execution_count": 24,
   "id": "fbcb7279",
   "metadata": {},
   "outputs": [],
   "source": [
    "df_train['Sex'].replace(['female','male'],[0,1],inplace=True)\n",
    "df_test['Sex'].replace(['female','male'],[0,1],inplace=True)"
   ]
  },
  {
   "cell_type": "markdown",
   "id": "87f5bf90",
   "metadata": {},
   "source": [
    "#### Change the Embarked data in numbers"
   ]
  },
  {
   "cell_type": "code",
   "execution_count": 25,
   "id": "421092b2",
   "metadata": {},
   "outputs": [],
   "source": [
    "df_train['Embarked'].replace(['Q','S', 'C'],[0,1,2],inplace=True)\n",
    "df_test ['Embarked'].replace(['Q','S', 'C'],[0,1,2],inplace=True)"
   ]
  },
  {
   "cell_type": "markdown",
   "id": "d9ba5327",
   "metadata": {},
   "source": [
    "## Missing Values"
   ]
  },
  {
   "cell_type": "markdown",
   "id": "b78b008e",
   "metadata": {},
   "source": [
    "#### Replace the missing data in the Age with the mean of this column"
   ]
  },
  {
   "cell_type": "code",
   "execution_count": 26,
   "id": "7ee266c8",
   "metadata": {},
   "outputs": [
    {
     "name": "stdout",
     "output_type": "stream",
     "text": [
      "Age train:  30\n",
      "Age test:  30\n",
      "Fare test:  36\n"
     ]
    }
   ],
   "source": [
    "age_train = round( df_train[\"Age\"].mean() )\n",
    "print(\"Age train: \", age_train)\n",
    "\n",
    "age_test = round( df_test[\"Age\"].mean() )\n",
    "print(\"Age test: \", age_test)\n",
    "\n",
    "fare_test = round( df_test[\"Fare\"].mean() )\n",
    "print(\"Fare test: \", fare_test)\n",
    "df_test['Fare'] = df_test['Fare'].replace(np.nan, fare_test)\n",
    "\n",
    "df_train['Age'] = df_train['Age'].replace(np.nan, age_train)\n",
    "df_test['Age'] = df_test['Age'].replace(np.nan, age_test)\n",
    "df_test['Fare'] = df_test['Fare'].replace(np.nan, fare_test)"
   ]
  },
  {
   "cell_type": "markdown",
   "id": "9f0128b7",
   "metadata": {},
   "source": [
    "#### Create several groups according to age bands"
   ]
  },
  {
   "cell_type": "code",
   "execution_count": 27,
   "id": "1670bd48",
   "metadata": {},
   "outputs": [],
   "source": [
    "#bins: 0-8, 9-15, 16-18, 19-25, 26-40, 41-60, 61-100\n",
    "\n",
    "bins = [0, 8, 15, 18, 25, 40, 60, 100]\n",
    "names = ['1', '2', '3', '4', '5', '6', '7']\n",
    "\n",
    "#Creo que estamos estarandizando\n",
    "df_train['Age'] = pd.cut(df_train['Age'], bins, labels = names)\n",
    "df_test['Age'] = pd.cut(df_test['Age'], bins, labels = names)\n",
    "\n"
   ]
  },
  {
   "cell_type": "markdown",
   "id": "9e1fa051",
   "metadata": {},
   "source": [
    "#### The \"Cabin\" column is removed as it has a lot of missing data\n"
   ]
  },
  {
   "cell_type": "code",
   "execution_count": 28,
   "id": "3167d271",
   "metadata": {},
   "outputs": [],
   "source": [
    "df_train.drop(['Cabin'], axis = 1, inplace=True)\n",
    "df_test.drop (['Cabin'], axis = 1, inplace=True)"
   ]
  },
  {
   "cell_type": "markdown",
   "id": "67930c64",
   "metadata": {},
   "source": [
    "#### Eliminate the columns that I consider are not necessary for the analysis\n"
   ]
  },
  {
   "cell_type": "code",
   "execution_count": 29,
   "id": "edc66561",
   "metadata": {},
   "outputs": [],
   "source": [
    "df_train = df_train.drop(['PassengerId','Name','Ticket'], axis=1)\n",
    "df_test = df_test.drop(['Name','Ticket'], axis=1)"
   ]
  },
  {
   "cell_type": "code",
   "execution_count": 30,
   "id": "8bff933b",
   "metadata": {},
   "outputs": [
    {
     "name": "stdout",
     "output_type": "stream",
     "text": [
      "Datos faltantes:\n",
      "\n",
      "\n",
      "\tTrain dataset\n",
      "\n",
      "Survived    0\n",
      "Pclass      0\n",
      "Sex         0\n",
      "Age         0\n",
      "SibSp       0\n",
      "Parch       0\n",
      "Fare        0\n",
      "Embarked    2\n",
      "dtype: int64\n",
      "\n",
      "\n",
      "\tTest dataset:\n",
      "\n",
      "PassengerId    0\n",
      "Pclass         0\n",
      "Sex            0\n",
      "Age            0\n",
      "SibSp          0\n",
      "Parch          0\n",
      "Fare           0\n",
      "Embarked       0\n",
      "dtype: int64\n"
     ]
    }
   ],
   "source": [
    "#Verifico los datos faltantes de los dataset\n",
    "print('Datos faltantes:')\n",
    "\n",
    "print(\"\\n\\n\\tTrain dataset\\n\")\n",
    "print(pd.isnull(df_train).sum())\n",
    "\n",
    "print(\"\\n\\n\\tTest dataset:\\n\")\n",
    "print(pd.isnull(df_test).sum())"
   ]
  },
  {
   "cell_type": "markdown",
   "id": "c83dcbf8",
   "metadata": {},
   "source": [
    "#### Rows with missing data are deleted"
   ]
  },
  {
   "cell_type": "code",
   "execution_count": 31,
   "id": "9af99556",
   "metadata": {},
   "outputs": [
    {
     "name": "stdout",
     "output_type": "stream",
     "text": [
      "     PassengerId  Pclass  Sex Age  SibSp  Parch      Fare  Embarked\n",
      "0            892       3    1   5      0      0    7.8292         0\n",
      "1            893       3    0   6      1      0    7.0000         1\n",
      "2            894       2    1   7      0      0    9.6875         0\n",
      "3            895       3    1   5      0      0    8.6625         1\n",
      "4            896       3    0   4      1      1   12.2875         1\n",
      "..           ...     ...  ...  ..    ...    ...       ...       ...\n",
      "413         1305       3    1   5      0      0    8.0500         1\n",
      "414         1306       1    0   5      0      0  108.9000         2\n",
      "415         1307       3    1   5      0      0    7.2500         1\n",
      "416         1308       3    1   5      0      0    8.0500         1\n",
      "417         1309       3    1   5      1      1   22.3583         2\n",
      "\n",
      "[418 rows x 8 columns]\n",
      "     PassengerId  Pclass  Sex Age  SibSp  Parch      Fare  Embarked\n",
      "0            892       3    1   5      0      0    7.8292         0\n",
      "1            893       3    0   6      1      0    7.0000         1\n",
      "2            894       2    1   7      0      0    9.6875         0\n",
      "3            895       3    1   5      0      0    8.6625         1\n",
      "4            896       3    0   4      1      1   12.2875         1\n",
      "..           ...     ...  ...  ..    ...    ...       ...       ...\n",
      "413         1305       3    1   5      0      0    8.0500         1\n",
      "414         1306       1    0   5      0      0  108.9000         2\n",
      "415         1307       3    1   5      0      0    7.2500         1\n",
      "416         1308       3    1   5      0      0    8.0500         1\n",
      "417         1309       3    1   5      1      1   22.3583         2\n",
      "\n",
      "[418 rows x 8 columns]\n"
     ]
    }
   ],
   "source": [
    "df_train.dropna(axis=0, how='any', inplace=True)\n",
    "\n",
    "print(df_test)\n",
    "\n",
    "df_test.dropna (axis=0, how='any', inplace=True)\n",
    "\n",
    "print(df_test)"
   ]
  },
  {
   "cell_type": "markdown",
   "id": "00a1bebd",
   "metadata": {},
   "source": [
    "#### Print the data"
   ]
  },
  {
   "cell_type": "code",
   "execution_count": 32,
   "id": "5c6af2bb",
   "metadata": {},
   "outputs": [
    {
     "name": "stdout",
     "output_type": "stream",
     "text": [
      "Datos faltantes:\n",
      "\n",
      "\n",
      "\tTrain dataset\n",
      "\n",
      "Survived    0\n",
      "Pclass      0\n",
      "Sex         0\n",
      "Age         0\n",
      "SibSp       0\n",
      "Parch       0\n",
      "Fare        0\n",
      "Embarked    0\n",
      "dtype: int64\n",
      "\n",
      "\n",
      "\tTest dataset:\n",
      "\n",
      "PassengerId    0\n",
      "Pclass         0\n",
      "Sex            0\n",
      "Age            0\n",
      "SibSp          0\n",
      "Parch          0\n",
      "Fare           0\n",
      "Embarked       0\n",
      "dtype: int64\n"
     ]
    }
   ],
   "source": [
    "#Verifico los datos faltantes de los dataset\n",
    "print('Datos faltantes:')\n",
    "\n",
    "print(\"\\n\\n\\tTrain dataset\\n\")\n",
    "print(pd.isnull(df_train).sum())\n",
    "\n",
    "print(\"\\n\\n\\tTest dataset:\\n\")\n",
    "print(pd.isnull(df_test).sum())"
   ]
  },
  {
   "cell_type": "code",
   "execution_count": 33,
   "id": "c34beac6",
   "metadata": {},
   "outputs": [
    {
     "name": "stdout",
     "output_type": "stream",
     "text": [
      "Amount of data: \n",
      "Train dataset:  (889, 8)\n",
      "Test dataset:  (418, 8)\n"
     ]
    }
   ],
   "source": [
    "# Verify the amount of data in the dataset\n",
    "print('Amount of data: ')\n",
    "print(\"Train dataset: \", df_train.shape)\n",
    "print(\"Test dataset: \", df_test.shape)"
   ]
  },
  {
   "cell_type": "code",
   "execution_count": 34,
   "id": "dab52fb6",
   "metadata": {},
   "outputs": [
    {
     "name": "stdout",
     "output_type": "stream",
     "text": [
      "   PassengerId  Pclass  Sex Age  SibSp  Parch     Fare  Embarked\n",
      "0          892       3    1   5      0      0   7.8292         0\n",
      "1          893       3    0   6      1      0   7.0000         1\n",
      "2          894       2    1   7      0      0   9.6875         0\n",
      "3          895       3    1   5      0      0   8.6625         1\n",
      "4          896       3    0   4      1      1  12.2875         1\n"
     ]
    }
   ],
   "source": [
    "print(df_test.head())"
   ]
  },
  {
   "cell_type": "code",
   "execution_count": 35,
   "id": "c730d37f",
   "metadata": {},
   "outputs": [
    {
     "name": "stdout",
     "output_type": "stream",
     "text": [
      "   Survived  Pclass  Sex Age  SibSp  Parch     Fare  Embarked\n",
      "0         0       3    1   4      1      0   7.2500       1.0\n",
      "1         1       1    0   5      1      0  71.2833       2.0\n",
      "2         1       3    0   5      0      0   7.9250       1.0\n",
      "3         1       1    0   5      1      0  53.1000       1.0\n",
      "4         0       3    1   5      0      0   8.0500       1.0\n"
     ]
    }
   ],
   "source": [
    "print(df_train.head())"
   ]
  },
  {
   "cell_type": "markdown",
   "id": "29fd3e30",
   "metadata": {},
   "source": [
    "## Aplicacion de algoritmos de Machine Learning"
   ]
  },
  {
   "cell_type": "code",
   "execution_count": 36,
   "id": "3c6e1808",
   "metadata": {},
   "outputs": [],
   "source": [
    "# Select columns corresponding to features, and preview the data\n",
    "X = np.array(df_train.drop(['Survived'], axis=1))\n",
    "\n",
    "# Target Prediction: y\n",
    "y = np.array(df_train['Survived'])"
   ]
  },
  {
   "cell_type": "markdown",
   "id": "7f6f2084",
   "metadata": {},
   "source": [
    "#### Training and Validation Data"
   ]
  },
  {
   "cell_type": "code",
   "execution_count": 37,
   "id": "4545c526",
   "metadata": {},
   "outputs": [],
   "source": [
    "X_train, X_test, y_train, y_test = train_test_split(X, y, test_size=0.2)"
   ]
  },
  {
   "cell_type": "markdown",
   "id": "d7bd5992",
   "metadata": {},
   "source": [
    "#### Define model: Logistic Regression"
   ]
  },
  {
   "cell_type": "code",
   "execution_count": 38,
   "id": "5caa036d",
   "metadata": {},
   "outputs": [
    {
     "name": "stdout",
     "output_type": "stream",
     "text": [
      "Precisión Regresión Logística:\n",
      "0.8016877637130801\n"
     ]
    }
   ],
   "source": [
    "\n",
    "model_reg = LogisticRegression(max_iter= 200)\n",
    "\n",
    "model_reg.fit(X_train, y_train)\n",
    "\n",
    "Y_pred = model_reg.predict(X_test)\n",
    "\n",
    "print('Precisión Regresión Logística:')\n",
    "print(model_reg.score(X_train, y_train))"
   ]
  },
  {
   "cell_type": "markdown",
   "id": "16586436",
   "metadata": {},
   "source": [
    "#### Define model: Support Vector Machines"
   ]
  },
  {
   "cell_type": "code",
   "execution_count": 39,
   "id": "63313582",
   "metadata": {},
   "outputs": [
    {
     "name": "stdout",
     "output_type": "stream",
     "text": [
      "Precisión Soporte de Vectores:\n",
      "0.680731364275668\n"
     ]
    }
   ],
   "source": [
    "\n",
    "##Support Vector Machines\n",
    "svc = SVC()\n",
    "\n",
    "svc.fit(X_train, y_train)\n",
    "\n",
    "Y_pred = svc.predict(X_test)\n",
    "\n",
    "print('Precisión Soporte de Vectores:')\n",
    "print(svc.score(X_train, y_train))\n"
   ]
  },
  {
   "cell_type": "code",
   "execution_count": 40,
   "id": "ff54c18e",
   "metadata": {},
   "outputs": [],
   "source": [
    "#### Define model: K neighbors"
   ]
  },
  {
   "cell_type": "code",
   "execution_count": 41,
   "id": "d24e62f9",
   "metadata": {},
   "outputs": [
    {
     "name": "stdout",
     "output_type": "stream",
     "text": [
      "Precisión Vecinos más Cercanos:\n",
      "0.8635724331926864\n"
     ]
    }
   ],
   "source": [
    "\n",
    "##K neighbors\n",
    "knn = KNeighborsClassifier(n_neighbors = 3)\n",
    "knn.fit(X_train, y_train)\n",
    "Y_pred = knn.predict(X_test)\n",
    "print('Precisión Vecinos más Cercanos:')\n",
    "print(knn.score(X_train, y_train))\n"
   ]
  },
  {
   "cell_type": "markdown",
   "id": "0f65d18d",
   "metadata": {},
   "source": [
    "### Once we have our models, we proceed to make the respective prediction using the test data."
   ]
  },
  {
   "cell_type": "markdown",
   "id": "b3b6e60f",
   "metadata": {},
   "source": [
    "# Prediction using the different models"
   ]
  },
  {
   "cell_type": "code",
   "execution_count": 42,
   "id": "ee531cb1",
   "metadata": {},
   "outputs": [
    {
     "ename": "NameError",
     "evalue": "name 'logreg' is not defined",
     "output_type": "error",
     "traceback": [
      "\u001b[1;31m---------------------------------------------------------------------------\u001b[0m",
      "\u001b[1;31mNameError\u001b[0m                                 Traceback (most recent call last)",
      "Input \u001b[1;32mIn [42]\u001b[0m, in \u001b[0;36m<cell line: 8>\u001b[1;34m()\u001b[0m\n\u001b[0;32m      4\u001b[0m \u001b[38;5;66;03m##Regresión logística\u001b[39;00m\n\u001b[0;32m      6\u001b[0m df_predict \u001b[38;5;241m=\u001b[39m df_test\u001b[38;5;241m.\u001b[39mdrop(\u001b[38;5;124m'\u001b[39m\u001b[38;5;124mPassengerId\u001b[39m\u001b[38;5;124m'\u001b[39m, axis\u001b[38;5;241m=\u001b[39m\u001b[38;5;241m1\u001b[39m)\n\u001b[1;32m----> 8\u001b[0m prediccion_logreg \u001b[38;5;241m=\u001b[39m \u001b[43mlogreg\u001b[49m\u001b[38;5;241m.\u001b[39mpredict(df_predict)\n\u001b[0;32m     10\u001b[0m submission \u001b[38;5;241m=\u001b[39m pd\u001b[38;5;241m.\u001b[39mDataFrame({ \u001b[38;5;124m'\u001b[39m\u001b[38;5;124mPassengerId\u001b[39m\u001b[38;5;124m'\u001b[39m : ids, \n\u001b[0;32m     11\u001b[0m                             \u001b[38;5;124m'\u001b[39m\u001b[38;5;124mSurvived\u001b[39m\u001b[38;5;124m'\u001b[39m: prediccion_logreg })\n\u001b[0;32m     13\u001b[0m submission\u001b[38;5;241m.\u001b[39mto_csv(\u001b[38;5;124m'\u001b[39m\u001b[38;5;124msub_logic_reg.csv\u001b[39m\u001b[38;5;124m'\u001b[39m, index \u001b[38;5;241m=\u001b[39m\u001b[38;5;28;01mFalse\u001b[39;00m)\n",
      "\u001b[1;31mNameError\u001b[0m: name 'logreg' is not defined"
     ]
    }
   ],
   "source": [
    "#Mostramos quien sobrevive o no con el ID\n",
    "ids = df_test['PassengerId']\n",
    "\n",
    "##Regresión logística\n",
    "\n",
    "df_predict = df_test.drop('PassengerId', axis=1)\n",
    "\n",
    "prediccion_logreg = logreg.predict(df_predict)\n",
    "\n",
    "submission = pd.DataFrame({ 'PassengerId' : ids, \n",
    "                            'Survived': prediccion_logreg })\n",
    "\n",
    "submission.to_csv('sub_logic_reg.csv', index =False)\n",
    "\n"
   ]
  },
  {
   "cell_type": "code",
   "execution_count": null,
   "id": "36f318b8",
   "metadata": {},
   "outputs": [],
   "source": [
    "##Support Vector Machines\n",
    "prediccion_svc = svc.predict(df_test.drop('PassengerId', axis=1))\n",
    "\n",
    "out_svc = pd.DataFrame({ 'PassengerId' : ids, \n",
    "                         'Survived': prediccion_svc })\n",
    "\n",
    "submission.to_csv('sub_svc.csv', index =False)\n"
   ]
  },
  {
   "cell_type": "code",
   "execution_count": null,
   "id": "4f8004b0",
   "metadata": {},
   "outputs": [],
   "source": [
    "##K neighbors\n",
    "prediccion_knn = knn.predict(df_test.drop('PassengerId', axis=1))\n",
    "out_knn = pd.DataFrame({ 'PassengerId' : ids, \n",
    "                        'Survived': prediccion_knn })\n",
    "\n",
    "submission.to_csv('sub_k_neigh.csv', index =False)\n"
   ]
  }
 ],
 "metadata": {
  "kernelspec": {
   "display_name": "Python 3 (ipykernel)",
   "language": "python",
   "name": "python3"
  },
  "language_info": {
   "codemirror_mode": {
    "name": "ipython",
    "version": 3
   },
   "file_extension": ".py",
   "mimetype": "text/x-python",
   "name": "python",
   "nbconvert_exporter": "python",
   "pygments_lexer": "ipython3",
   "version": "3.9.12"
  }
 },
 "nbformat": 4,
 "nbformat_minor": 5
}

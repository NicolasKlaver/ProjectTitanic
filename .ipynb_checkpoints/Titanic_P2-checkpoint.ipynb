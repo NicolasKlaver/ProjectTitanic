{
 "cells": [
  {
   "cell_type": "markdown",
   "id": "0a6eca8e",
   "metadata": {},
   "source": [
    "# [Return_to_Github](https://github.com/NicolasKlaver/Project_Titanic_Survivor)\n",
    "\n",
    "# [P1-Data Analysis](https://github.com/NicolasKlaver/Project_Titanic_Survivor/blob/main/Titanic_P1.ipynb)\n"
   ]
  },
  {
   "cell_type": "code",
   "execution_count": 14,
   "id": "9ac244d2",
   "metadata": {},
   "outputs": [],
   "source": [
    "import import_ipynb\n",
    "from Titanic_P1 import *"
   ]
  },
  {
   "cell_type": "markdown",
   "id": "fabd3e1e",
   "metadata": {},
   "source": [
    "# Choosing the Best Model"
   ]
  },
  {
   "cell_type": "markdown",
   "id": "851bcac4",
   "metadata": {},
   "source": [
    "## Splitting the Training Data\n",
    "- We will use part of our training data to test the accuracy of our different models."
   ]
  },
  {
   "cell_type": "code",
   "execution_count": 2,
   "id": "5332f6cb",
   "metadata": {},
   "outputs": [],
   "source": [
    "predictors = train.drop(['Survived', 'PassengerId'], axis=1)\n",
    "target = train[\"Survived\"]\n",
    "x_train, x_val, y_train, y_val = train_test_split(predictors, target, test_size = 0.20, random_state = 0)"
   ]
  },
  {
   "cell_type": "markdown",
   "id": "2f6e8c0a",
   "metadata": {},
   "source": [
    "## Testing Different Models\n",
    "- Gaussian Naive Bayes\n",
    "- Logistic Regression\n",
    "- Support Vector Machines\n",
    "- Decision Tree Classifier\n",
    "- Random Forest Classifier\n",
    "- KNN or k-Nearest Neighbors\n",
    "- Stochastic Gradient Descent\n",
    "- Gradient Boosting Classifier\n",
    "\n",
    "\n",
    "**For each model, we set the model, fit it with 80% of our training data, predict for 20% of the training data and check the accuracy.**"
   ]
  },
  {
   "cell_type": "code",
   "execution_count": 3,
   "id": "1380b92a",
   "metadata": {},
   "outputs": [
    {
     "name": "stdout",
     "output_type": "stream",
     "text": [
      "Accuracy Niave Bayes:  79.33\n"
     ]
    }
   ],
   "source": [
    "# Gaussian Naive Bayes\n",
    "gaussian = GaussianNB()\n",
    "gaussian.fit(x_train, y_train)\n",
    "y_pred = gaussian.predict(x_val)\n",
    "\n",
    "acc_gaussian = round(accuracy_score(y_pred, y_val) * 100, 2)\n",
    "print(\"Accuracy Niave Bayes: \",acc_gaussian)"
   ]
  },
  {
   "cell_type": "code",
   "execution_count": 4,
   "id": "67a045f0",
   "metadata": {},
   "outputs": [
    {
     "name": "stdout",
     "output_type": "stream",
     "text": [
      "Accuracy Logistic Regression:  79.33\n"
     ]
    }
   ],
   "source": [
    "# Logistic Regression\n",
    "\n",
    "logreg = LogisticRegression()\n",
    "logreg.fit(x_train, y_train)\n",
    "y_pred = logreg.predict(x_val)\n",
    "acc_logreg = round(accuracy_score(y_pred, y_val) * 100, 2)\n",
    "print(\"Accuracy Logistic Regression: \",acc_logreg)"
   ]
  },
  {
   "cell_type": "code",
   "execution_count": 5,
   "id": "522554aa",
   "metadata": {},
   "outputs": [
    {
     "name": "stdout",
     "output_type": "stream",
     "text": [
      "Accuracy SVM:  82.12\n"
     ]
    }
   ],
   "source": [
    "# Support Vector Machines\n",
    "\n",
    "svc = SVC()\n",
    "svc.fit(x_train, y_train)\n",
    "y_pred = svc.predict(x_val)\n",
    "acc_svc = round(accuracy_score(y_pred, y_val) * 100, 2)\n",
    "print(\"Accuracy SVM: \",acc_svc)"
   ]
  },
  {
   "cell_type": "code",
   "execution_count": 6,
   "id": "50069a29",
   "metadata": {},
   "outputs": [
    {
     "name": "stdout",
     "output_type": "stream",
     "text": [
      "Accuracy Linear SVC:  77.09\n"
     ]
    }
   ],
   "source": [
    "# Linear SVC\n",
    "\n",
    "linear_svc = LinearSVC()\n",
    "linear_svc.fit(x_train, y_train)\n",
    "y_pred = linear_svc.predict(x_val)\n",
    "acc_linear_svc = round(accuracy_score(y_pred, y_val) * 100, 2)\n",
    "print(\"Accuracy Linear SVC: \",acc_linear_svc)"
   ]
  },
  {
   "cell_type": "code",
   "execution_count": 7,
   "id": "86f9158a",
   "metadata": {},
   "outputs": [
    {
     "name": "stdout",
     "output_type": "stream",
     "text": [
      "Accuracy Decision Tree:  78.77\n"
     ]
    }
   ],
   "source": [
    "#Decision Tree\n",
    "\n",
    "decisiontree = DecisionTreeClassifier()\n",
    "decisiontree.fit(x_train, y_train)\n",
    "y_pred = decisiontree.predict(x_val)\n",
    "acc_decisiontree = round(accuracy_score(y_pred, y_val) * 100, 2)\n",
    "print(\"Accuracy Decision Tree: \", acc_decisiontree)"
   ]
  },
  {
   "cell_type": "code",
   "execution_count": 8,
   "id": "a162a00e",
   "metadata": {},
   "outputs": [
    {
     "name": "stdout",
     "output_type": "stream",
     "text": [
      "Accuracy Random Forest:  85.47\n"
     ]
    }
   ],
   "source": [
    "# Random Forest\n",
    "\n",
    "randomforest = RandomForestClassifier()\n",
    "randomforest.fit(x_train, y_train)\n",
    "y_pred = randomforest.predict(x_val)\n",
    "acc_randomforest = round(accuracy_score(y_pred, y_val) * 100, 2)\n",
    "print(\"Accuracy Random Forest: \", acc_randomforest)"
   ]
  },
  {
   "cell_type": "code",
   "execution_count": 9,
   "id": "a2a16295",
   "metadata": {},
   "outputs": [
    {
     "name": "stdout",
     "output_type": "stream",
     "text": [
      "Accuracy KNN:  82.12\n"
     ]
    }
   ],
   "source": [
    "# KNN or k-Nearest Neighbors\n",
    "\n",
    "knn = KNeighborsClassifier()\n",
    "knn.fit(x_train, y_train)\n",
    "y_pred = knn.predict(x_val)\n",
    "acc_knn = round(accuracy_score(y_pred, y_val) * 100, 2)\n",
    "print(\"Accuracy KNN: \",acc_knn)"
   ]
  },
  {
   "cell_type": "code",
   "execution_count": 10,
   "id": "6f01874e",
   "metadata": {},
   "outputs": [
    {
     "name": "stdout",
     "output_type": "stream",
     "text": [
      "Accuracy Gradient Boosting Classifier:  82.68\n"
     ]
    }
   ],
   "source": [
    "# Gradient Boosting Classifier\n",
    "\n",
    "gbk = GradientBoostingClassifier()\n",
    "gbk.fit(x_train, y_train)\n",
    "y_pred = gbk.predict(x_val)\n",
    "acc_gbk = round(accuracy_score(y_pred, y_val) * 100, 2)\n",
    "print(\"Accuracy Gradient Boosting Classifier: \",acc_gbk)"
   ]
  },
  {
   "cell_type": "markdown",
   "id": "63c03560",
   "metadata": {},
   "source": [
    "**Let's compare the accuracies of each model**"
   ]
  },
  {
   "cell_type": "code",
   "execution_count": 11,
   "id": "1f66c4ae",
   "metadata": {},
   "outputs": [
    {
     "data": {
      "text/html": [
       "<div>\n",
       "<style scoped>\n",
       "    .dataframe tbody tr th:only-of-type {\n",
       "        vertical-align: middle;\n",
       "    }\n",
       "\n",
       "    .dataframe tbody tr th {\n",
       "        vertical-align: top;\n",
       "    }\n",
       "\n",
       "    .dataframe thead th {\n",
       "        text-align: right;\n",
       "    }\n",
       "</style>\n",
       "<table border=\"1\" class=\"dataframe\">\n",
       "  <thead>\n",
       "    <tr style=\"text-align: right;\">\n",
       "      <th></th>\n",
       "      <th>Model</th>\n",
       "      <th>Score</th>\n",
       "    </tr>\n",
       "  </thead>\n",
       "  <tbody>\n",
       "    <tr>\n",
       "      <th>3</th>\n",
       "      <td>Random Forest</td>\n",
       "      <td>85.47</td>\n",
       "    </tr>\n",
       "    <tr>\n",
       "      <th>7</th>\n",
       "      <td>Gradient Boosting Classifier</td>\n",
       "      <td>82.68</td>\n",
       "    </tr>\n",
       "    <tr>\n",
       "      <th>0</th>\n",
       "      <td>Support Vector Machines</td>\n",
       "      <td>82.12</td>\n",
       "    </tr>\n",
       "    <tr>\n",
       "      <th>1</th>\n",
       "      <td>KNN</td>\n",
       "      <td>82.12</td>\n",
       "    </tr>\n",
       "    <tr>\n",
       "      <th>2</th>\n",
       "      <td>Logistic Regression</td>\n",
       "      <td>79.33</td>\n",
       "    </tr>\n",
       "    <tr>\n",
       "      <th>4</th>\n",
       "      <td>Naive Bayes</td>\n",
       "      <td>79.33</td>\n",
       "    </tr>\n",
       "    <tr>\n",
       "      <th>6</th>\n",
       "      <td>Decision Tree</td>\n",
       "      <td>78.77</td>\n",
       "    </tr>\n",
       "    <tr>\n",
       "      <th>5</th>\n",
       "      <td>Linear SVC</td>\n",
       "      <td>77.09</td>\n",
       "    </tr>\n",
       "  </tbody>\n",
       "</table>\n",
       "</div>"
      ],
      "text/plain": [
       "                          Model  Score\n",
       "3                 Random Forest  85.47\n",
       "7  Gradient Boosting Classifier  82.68\n",
       "0       Support Vector Machines  82.12\n",
       "1                           KNN  82.12\n",
       "2           Logistic Regression  79.33\n",
       "4                   Naive Bayes  79.33\n",
       "6                 Decision Tree  78.77\n",
       "5                    Linear SVC  77.09"
      ]
     },
     "execution_count": 11,
     "metadata": {},
     "output_type": "execute_result"
    }
   ],
   "source": [
    "models = pd.DataFrame({\n",
    "    'Model': ['Support Vector Machines', 'KNN', 'Logistic Regression', \n",
    "              'Random Forest', 'Naive Bayes', 'Linear SVC', \n",
    "              'Decision Tree', 'Gradient Boosting Classifier'],\n",
    "    'Score': [acc_svc, acc_knn, acc_logreg, \n",
    "              acc_randomforest, acc_gaussian,acc_linear_svc, acc_decisiontree,\n",
    "              acc_gbk]})\n",
    "models.sort_values(by='Score', ascending=False)"
   ]
  },
  {
   "cell_type": "markdown",
   "id": "1f4dc51c",
   "metadata": {},
   "source": [
    "### Creating Submission File"
   ]
  },
  {
   "cell_type": "code",
   "execution_count": 12,
   "id": "0178c7f5",
   "metadata": {},
   "outputs": [],
   "source": [
    "#set ids as PassengerId and predict survival \n",
    "ids = test['PassengerId']\n",
    "predictions = gbk.predict(test.drop('PassengerId', axis=1))\n",
    "\n",
    "#set the output as a dataframe and convert to csv file named submission.csv\n",
    "output = pd.DataFrame({ 'PassengerId' : ids,\n",
    "                       'Survived': predictions })\n",
    "#output.to_csv('submission_.csv', index=False)"
   ]
  },
  {
   "cell_type": "code",
   "execution_count": 13,
   "id": "f024f6bf",
   "metadata": {},
   "outputs": [],
   "source": [
    "##K neighbors\n",
    "prediccion_knn = knn.predict(test.drop('PassengerId', axis=1))\n",
    "out_knn = pd.DataFrame({ 'PassengerId' : ids, \n",
    "                        'Survived': prediccion_knn })\n",
    "\n",
    "#out_knn.to_csv('sub_k.csv', index =False)"
   ]
  },
  {
   "cell_type": "markdown",
   "id": "13609a79",
   "metadata": {},
   "source": [
    "# [Return_to_Github](https://github.com/NicolasKlaver/Project_Titanic_Survivor)\n",
    "\n",
    "# [P1-Data Analysis](https://github.com/NicolasKlaver/Project_Titanic_Survivor/blob/main/Titanic_P1.ipynb)\n"
   ]
  }
 ],
 "metadata": {
  "kernelspec": {
   "display_name": "Python 3 (ipykernel)",
   "language": "python",
   "name": "python3"
  },
  "language_info": {
   "codemirror_mode": {
    "name": "ipython",
    "version": 3
   },
   "file_extension": ".py",
   "mimetype": "text/x-python",
   "name": "python",
   "nbconvert_exporter": "python",
   "pygments_lexer": "ipython3",
   "version": "3.9.12"
  }
 },
 "nbformat": 4,
 "nbformat_minor": 5
}
